{
 "cells": [
  {
   "cell_type": "markdown",
   "metadata": {},
   "source": [
    "Import and shrink the dataset"
   ]
  },
  {
   "cell_type": "code",
   "execution_count": 5,
   "metadata": {},
   "outputs": [],
   "source": [
    "import os, shutil\n",
    "dirname = 'C:\\\\Users\\\\Daniel\\\\Documents\\\\Untitled Folder'\n",
    "original_dataset_dir = os.path.join(dirname, 'data\\\\train\\\\train')\n",
    "\n",
    "base_dir = os.path.join(dirname, 'data\\\\smaller')\n",
    "os.mkdir(base_dir)\n",
    "train_dir = os.path.join(base_dir, 'train')\n",
    "os.mkdir(train_dir)\n",
    "validation_dir = os.path.join(base_dir,'validaton')\n",
    "os.mkdir(validation_dir)\n",
    "test_dir = os.path.join(base_dir,'test')\n",
    "os.mkdir(test_dir)\n",
    "\n",
    "train_cats_dir = os.path.join(train_dir,'cats')\n",
    "os.mkdir(train_cats_dir)\n",
    "\n",
    "train_dogs_dir = os.path.join(train_dir,'dogs')\n",
    "os.mkdir(train_dogs_dir)\n",
    "\n",
    "validation_cats_dir = os.path.join(validation_dir,'cats')\n",
    "os.mkdir(validation_cats_dir)\n",
    "\n",
    "validation_dogs_dir = os.path.join(validation_dir,'dogs')\n",
    "os.mkdir(validation_dogs_dir)\n",
    "\n",
    "test_cats_dir = os.path.join(test_dir,'cats')\n",
    "os.mkdir(test_cats_dir)\n",
    "\n",
    "test_dogs_dir = os.path.join(test_dir,'dogs')\n",
    "os.mkdir(test_dogs_dir)\n",
    "\n",
    "fnames = ['cat.{}.jpg'.format(i) for i in range(1000)]\n",
    "for fname in fnames:\n",
    "    src = os.path.join(original_dataset_dir, fname)\n",
    "    dst = os.path.join(train_cats_dir, fname)\n",
    "    shutil.copyfile(src, dst)\n",
    "    \n",
    "fnames = ['cat.{}.jpg'.format(i) for i in range(1000,1500)]\n",
    "for fname in fnames:\n",
    "    src = os.path.join(original_dataset_dir, fname)\n",
    "    dst = os.path.join(validation_cats_dir, fname)\n",
    "    shutil.copyfile(src, dst)\n",
    "\n",
    "fnames = ['cat.{}.jpg'.format(i) for i in range(1000,1500)]\n",
    "for fname in fnames:\n",
    "    src = os.path.join(original_dataset_dir, fname)\n",
    "    dst = os.path.join(test_cats_dir, fname)\n",
    "    shutil.copyfile(src, dst)\n",
    "    \n",
    "fnames = ['dog.{}.jpg'.format(i) for i in range(1000)]\n",
    "for fname in fnames:\n",
    "    src = os.path.join(original_dataset_dir, fname)\n",
    "    dst = os.path.join(train_dogs_dir, fname)\n",
    "    shutil.copyfile(src, dst)\n",
    "    \n",
    "fnames = ['dog.{}.jpg'.format(i) for i in range(1000,1500)]\n",
    "for fname in fnames:\n",
    "    src = os.path.join(original_dataset_dir, fname)\n",
    "    dst = os.path.join(validation_dogs_dir, fname)\n",
    "    shutil.copyfile(src, dst)\n",
    "\n",
    "fnames = ['dog.{}.jpg'.format(i) for i in range(1000,1500)]\n",
    "for fname in fnames:\n",
    "    src = os.path.join(original_dataset_dir, fname)\n",
    "    dst = os.path.join(test_dogs_dir, fname)\n",
    "    shutil.copyfile(src, dst)"
   ]
  },
  {
   "cell_type": "markdown",
   "metadata": {},
   "source": [
    "Binary classification. Because this problem is tougher than mnist, the architecture will change. Compared to the MNIST problem, we will add an additional convolutional layer and max pooling layer"
   ]
  },
  {
   "cell_type": "code",
   "execution_count": 10,
   "metadata": {},
   "outputs": [
    {
     "name": "stdout",
     "output_type": "stream",
     "text": [
      "_________________________________________________________________\n",
      "Layer (type)                 Output Shape              Param #   \n",
      "=================================================================\n",
      "conv2d_9 (Conv2D)            (None, 148, 148, 32)      896       \n",
      "_________________________________________________________________\n",
      "max_pooling2d_9 (MaxPooling2 (None, 74, 74, 32)        0         \n",
      "_________________________________________________________________\n",
      "conv2d_10 (Conv2D)           (None, 72, 72, 64)        18496     \n",
      "_________________________________________________________________\n",
      "max_pooling2d_10 (MaxPooling (None, 36, 36, 64)        0         \n",
      "_________________________________________________________________\n",
      "conv2d_11 (Conv2D)           (None, 34, 34, 128)       73856     \n",
      "_________________________________________________________________\n",
      "max_pooling2d_11 (MaxPooling (None, 17, 17, 128)       0         \n",
      "_________________________________________________________________\n",
      "conv2d_12 (Conv2D)           (None, 15, 15, 128)       147584    \n",
      "_________________________________________________________________\n",
      "max_pooling2d_12 (MaxPooling (None, 7, 7, 128)         0         \n",
      "_________________________________________________________________\n",
      "flatten_3 (Flatten)          (None, 6272)              0         \n",
      "_________________________________________________________________\n",
      "dense_5 (Dense)              (None, 512)               3211776   \n",
      "_________________________________________________________________\n",
      "dense_6 (Dense)              (None, 1)                 513       \n",
      "=================================================================\n",
      "Total params: 3,453,121\n",
      "Trainable params: 3,453,121\n",
      "Non-trainable params: 0\n",
      "_________________________________________________________________\n"
     ]
    }
   ],
   "source": [
    "from keras import layers\n",
    "from keras import models\n",
    "\n",
    "model = models.Sequential()\n",
    "model.add(layers.Conv2D(32,(3,3), activation='relu', input_shape=(150,150,3)))\n",
    "model.add(layers.MaxPooling2D((2,2)))\n",
    "model.add(layers.Conv2D(64,(3,3), activation='relu'))\n",
    "model.add(layers.MaxPooling2D((2,2)))\n",
    "model.add(layers.Conv2D(128,(3,3), activation='relu'))\n",
    "model.add(layers.MaxPooling2D((2,2)))\n",
    "model.add(layers.Conv2D(128,(3,3), activation='relu'))\n",
    "model.add(layers.MaxPooling2D((2,2)))\n",
    "model.add(layers.Flatten())\n",
    "model.add(layers.Dense(512, activation='relu'))\n",
    "model.add(layers.Dense(1, activation='sigmoid'))\n",
    "# Lets look at it again\n",
    "model.summary()"
   ]
  },
  {
   "cell_type": "code",
   "execution_count": 11,
   "metadata": {},
   "outputs": [],
   "source": [
    "from keras import optimizers\n",
    "\n",
    "model.compile(loss='binary_crossentropy',\n",
    "             optimizer=optimizers.RMSprop(lr=1e-4),\n",
    "             metrics=['acc'])"
   ]
  },
  {
   "cell_type": "markdown",
   "metadata": {},
   "source": [
    "preprocess the data. read the picture files, then decode peg into rgb grids of pixels, then convert to floating point tensors, then rescale the pixel values (as neural nets prefer to deal with small input values)."
   ]
  },
  {
   "cell_type": "code",
   "execution_count": 12,
   "metadata": {},
   "outputs": [
    {
     "name": "stdout",
     "output_type": "stream",
     "text": [
      "Found 2000 images belonging to 2 classes.\n",
      "Found 1000 images belonging to 2 classes.\n"
     ]
    }
   ],
   "source": [
    "from keras.preprocessing.image import ImageDataGenerator\n",
    "\n",
    "train_datagen = ImageDataGenerator(rescale=1./255)\n",
    "test_datagen = ImageDataGenerator(rescale=1./255)\n",
    "\n",
    "train_generator = train_datagen.flow_from_directory(\n",
    "    train_dir,\n",
    "    target_size=(150, 150),\n",
    "    batch_size=20,\n",
    "    class_mode='binary')\n",
    "\n",
    "validation_generator = test_datagen.flow_from_directory(\n",
    "    validation_dir,\n",
    "    target_size=(150, 150),\n",
    "    batch_size=20,\n",
    "    class_mode='binary')\n"
   ]
  },
  {
   "cell_type": "code",
   "execution_count": 13,
   "metadata": {},
   "outputs": [
    {
     "name": "stdout",
     "output_type": "stream",
     "text": [
      "Epoch 1/30\n",
      "100/100 [==============================] - 8s 80ms/step - loss: 0.6900 - acc: 0.5290 - val_loss: 0.6715 - val_acc: 0.5960\n",
      "Epoch 2/30\n",
      "100/100 [==============================] - 7s 69ms/step - loss: 0.6617 - acc: 0.6115 - val_loss: 0.6750 - val_acc: 0.5690\n",
      "Epoch 3/30\n",
      "100/100 [==============================] - 7s 68ms/step - loss: 0.6187 - acc: 0.6665 - val_loss: 0.6261 - val_acc: 0.6310\n",
      "Epoch 4/30\n",
      "100/100 [==============================] - 7s 74ms/step - loss: 0.5848 - acc: 0.6865 - val_loss: 0.6039 - val_acc: 0.6740\n",
      "Epoch 5/30\n",
      "100/100 [==============================] - 7s 72ms/step - loss: 0.5546 - acc: 0.7185 - val_loss: 0.5815 - val_acc: 0.6780\n",
      "Epoch 6/30\n",
      "100/100 [==============================] - 7s 70ms/step - loss: 0.5243 - acc: 0.7335 - val_loss: 0.6209 - val_acc: 0.6490\n",
      "Epoch 7/30\n",
      "100/100 [==============================] - 7s 72ms/step - loss: 0.5051 - acc: 0.7405 - val_loss: 0.5944 - val_acc: 0.6810\n",
      "Epoch 8/30\n",
      "100/100 [==============================] - 7s 71ms/step - loss: 0.4727 - acc: 0.7765 - val_loss: 0.5831 - val_acc: 0.6830\n",
      "Epoch 9/30\n",
      "100/100 [==============================] - 7s 69ms/step - loss: 0.4505 - acc: 0.7885 - val_loss: 0.5513 - val_acc: 0.7120\n",
      "Epoch 10/30\n",
      "100/100 [==============================] - 7s 74ms/step - loss: 0.4215 - acc: 0.8055 - val_loss: 0.5633 - val_acc: 0.7200\n",
      "Epoch 11/30\n",
      "100/100 [==============================] - 7s 72ms/step - loss: 0.3970 - acc: 0.8250 - val_loss: 0.5437 - val_acc: 0.7290\n",
      "Epoch 12/30\n",
      "100/100 [==============================] - 7s 73ms/step - loss: 0.3709 - acc: 0.8360 - val_loss: 0.5801 - val_acc: 0.7130\n",
      "Epoch 13/30\n",
      "100/100 [==============================] - 7s 72ms/step - loss: 0.3534 - acc: 0.8440 - val_loss: 0.5311 - val_acc: 0.7320\n",
      "Epoch 14/30\n",
      "100/100 [==============================] - 8s 77ms/step - loss: 0.3267 - acc: 0.8665 - val_loss: 0.5909 - val_acc: 0.7240\n",
      "Epoch 15/30\n",
      "100/100 [==============================] - 9s 89ms/step - loss: 0.3078 - acc: 0.8770 - val_loss: 0.6106 - val_acc: 0.7280\n",
      "Epoch 16/30\n",
      "100/100 [==============================] - 8s 79ms/step - loss: 0.2902 - acc: 0.8760 - val_loss: 0.5935 - val_acc: 0.7290\n",
      "Epoch 17/30\n",
      "100/100 [==============================] - 8s 81ms/step - loss: 0.2660 - acc: 0.8975 - val_loss: 0.6850 - val_acc: 0.7110\n",
      "Epoch 18/30\n",
      "100/100 [==============================] - 7s 74ms/step - loss: 0.2545 - acc: 0.8985 - val_loss: 0.7906 - val_acc: 0.6850\n",
      "Epoch 19/30\n",
      "100/100 [==============================] - 8s 76ms/step - loss: 0.2296 - acc: 0.9075 - val_loss: 0.6009 - val_acc: 0.7390\n",
      "Epoch 20/30\n",
      "100/100 [==============================] - 9s 85ms/step - loss: 0.2092 - acc: 0.9150 - val_loss: 0.6060 - val_acc: 0.7490\n",
      "Epoch 21/30\n",
      "100/100 [==============================] - 8s 78ms/step - loss: 0.2046 - acc: 0.9185 - val_loss: 0.6055 - val_acc: 0.7520: 0s - loss: 0.2019 - acc\n",
      "Epoch 22/30\n",
      "100/100 [==============================] - 7s 69ms/step - loss: 0.1816 - acc: 0.9305 - val_loss: 0.6359 - val_acc: 0.7450\n",
      "Epoch 23/30\n",
      "100/100 [==============================] - 7s 74ms/step - loss: 0.1570 - acc: 0.9430 - val_loss: 0.6304 - val_acc: 0.7480\n",
      "Epoch 24/30\n",
      "100/100 [==============================] - 7s 70ms/step - loss: 0.1425 - acc: 0.9500 - val_loss: 0.6401 - val_acc: 0.7460\n",
      "Epoch 25/30\n",
      "100/100 [==============================] - 7s 69ms/step - loss: 0.1320 - acc: 0.9545 - val_loss: 0.7913 - val_acc: 0.7240\n",
      "Epoch 26/30\n",
      "100/100 [==============================] - 7s 69ms/step - loss: 0.1149 - acc: 0.9605 - val_loss: 0.7740 - val_acc: 0.7230\n",
      "Epoch 27/30\n",
      "100/100 [==============================] - 7s 71ms/step - loss: 0.0986 - acc: 0.9680 - val_loss: 0.7799 - val_acc: 0.7400\n",
      "Epoch 28/30\n",
      "100/100 [==============================] - 7s 72ms/step - loss: 0.0883 - acc: 0.9680 - val_loss: 0.7072 - val_acc: 0.7340\n",
      "Epoch 29/30\n",
      "100/100 [==============================] - 7s 71ms/step - loss: 0.0774 - acc: 0.9745 - val_loss: 0.8404 - val_acc: 0.7370\n",
      "Epoch 30/30\n",
      "100/100 [==============================] - 7s 71ms/step - loss: 0.0689 - acc: 0.9805 - val_loss: 0.8082 - val_acc: 0.7490\n"
     ]
    }
   ],
   "source": [
    "history = model.fit_generator(train_generator,\n",
    "                             steps_per_epoch=100,\n",
    "                             epochs=30,\n",
    "                             validation_data=validation_generator,\n",
    "                             validation_steps=50)"
   ]
  },
  {
   "cell_type": "code",
   "execution_count": null,
   "metadata": {},
   "outputs": [],
   "source": []
  }
 ],
 "metadata": {
  "kernelspec": {
   "display_name": "Python 3",
   "language": "python",
   "name": "python3"
  },
  "language_info": {
   "codemirror_mode": {
    "name": "ipython",
    "version": 3
   },
   "file_extension": ".py",
   "mimetype": "text/x-python",
   "name": "python",
   "nbconvert_exporter": "python",
   "pygments_lexer": "ipython3",
   "version": "3.6.6"
  }
 },
 "nbformat": 4,
 "nbformat_minor": 2
}
